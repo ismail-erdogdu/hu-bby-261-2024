{
  "nbformat": 4,
  "nbformat_minor": 0,
  "metadata": {
    "colab": {
      "provenance": [],
      "authorship_tag": "ABX9TyPpDMEpfThWZ8+TwtaL3Q6U",
      "include_colab_link": true
    },
    "kernelspec": {
      "name": "python3",
      "display_name": "Python 3"
    },
    "language_info": {
      "name": "python"
    }
  },
  "cells": [
    {
      "cell_type": "markdown",
      "metadata": {
        "id": "view-in-github",
        "colab_type": "text"
      },
      "source": [
        "<a href=\"https://colab.research.google.com/github/ismail-erdogdu/hu-bby-261-2024/blob/main/Do%C4%9FalDil%C4%B0%C5%9FlemeKonu.ipynb\" target=\"_parent\"><img src=\"https://colab.research.google.com/assets/colab-badge.svg\" alt=\"Open In Colab\"/></a>"
      ]
    },
    {
      "cell_type": "code",
      "execution_count": null,
      "metadata": {
        "colab": {
          "base_uri": "https://localhost:8080/"
        },
        "id": "2SYw08etOOPI",
        "outputId": "5039fa67-e0c4-4bec-8ef0-f383ee76998d"
      },
      "outputs": [
        {
          "output_type": "stream",
          "name": "stdout",
          "text": [
            "Bir metin girin: Gelişen teknoloji sayesinde hastalıkları daha kolay tedavi edebiliyor, merak ettiğimiz bilgileri daha hızlı ve kolay bir şekilde elde edebiliyoruz. Yine teknoloji sayesinde yüzlerce adamın yapamayacağı zor bir işi bir makine veya cihaz sayesinde anında yapabiliyoruz. Uzak diyarları kısa sürede gezebiliyor ve eğlence ihtiyacımızı bazı teknolojik aletler sayesinde giderebiliyoruz. Teknoloji sayesinde dünyayı bırakın, uzay hakkında bile bilgi sahibi olabiliyor ve uzayla ilgili tüm gizemleri çözebiliyoruz.\n",
            "Metnin konusu: Teknoloji\n"
          ]
        }
      ],
      "source": [
        "def dosyadan_kelime_listesi_yukle(dosya_adi):\n",
        "    # Dosyayı açıp satırları okuyarak bir kümeye ekler\n",
        "    kelimeler = set()\n",
        "    with open(dosya_adi, \"r\", encoding=\"utf-8\") as dosya:\n",
        "        for satir in dosya:\n",
        "            kelimeler.add(satir.strip().lower())  # Satır başı-sonu boşlukları kaldır ve küçük harfe çevir\n",
        "    return kelimeler\n",
        "\n",
        "def konu_basligi_tespit(metin):\n",
        "    # Anahtar kelimeleri dosyalardan yükleme\n",
        "    siyaset_kelimeler = dosyadan_kelime_listesi_yukle(\"siyaset.txt\")\n",
        "    teknoloji_kelimeler = dosyadan_kelime_listesi_yukle(\"teknoloji.txt\")\n",
        "    spor_kelimeler = dosyadan_kelime_listesi_yukle(\"spor.txt\")\n",
        "    saglik_kelimeler = dosyadan_kelime_listesi_yukle(\"saglik.txt\")\n",
        "    eglence_kelimeler = dosyadan_kelime_listesi_yukle(\"eglence.txt\")\n",
        "\n",
        "    # Metni küçük harfe çevirip kelimelere ayırma\n",
        "    metin = metin.lower()\n",
        "    kelimeler = set(metin.split())\n",
        "\n",
        "    # Anahtar kelime sayacı\n",
        "    siyaset_sayac = sum(1 for kelime in kelimeler if kelime in siyaset_kelimeler)\n",
        "    teknoloji_sayac = sum(1 for kelime in kelimeler if kelime in teknoloji_kelimeler)\n",
        "    spor_sayac = sum(1 for kelime in kelimeler if kelime in spor_kelimeler)\n",
        "    saglik_sayac = sum(1 for kelime in kelimeler if kelime in saglik_kelimeler)\n",
        "    eglence_sayac = sum(1 for kelime in kelimeler if kelime in eglence_kelimeler)\n",
        "\n",
        "    # Konu başlıklarına göre en yüksek sayacı bulma\n",
        "    sayaclar = {\n",
        "        \"Siyaset\": siyaset_sayac,\n",
        "        \"Teknoloji\": teknoloji_sayac,\n",
        "        \"Spor\": spor_sayac,\n",
        "        \"Sağlık\": saglik_sayac,\n",
        "        \"Eğlence\": eglence_sayac\n",
        "    }\n",
        "\n",
        "    # En yüksek sayaca göre başlık belirleme\n",
        "    max_konu = max(sayaclar, key=sayaclar.get)\n",
        "    if sayaclar[max_konu] > 0:\n",
        "        return max_konu\n",
        "    else:\n",
        "        return \"Diğer konular\"\n",
        "\n",
        "# Kullanıcıdan metin alma\n",
        "kullanici_metni = input(\"Bir metin girin: \")\n",
        "konu = konu_basligi_tespit(kullanici_metni)\n",
        "print(f\"Metnin konusu: {konu}\")\n"
      ]
    }
  ]
}