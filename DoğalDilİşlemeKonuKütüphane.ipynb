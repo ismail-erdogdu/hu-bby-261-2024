{
  "nbformat": 4,
  "nbformat_minor": 0,
  "metadata": {
    "colab": {
      "provenance": [],
      "authorship_tag": "ABX9TyNyiRurMLrjShOXIlLsVlHS",
      "include_colab_link": true
    },
    "kernelspec": {
      "name": "python3",
      "display_name": "Python 3"
    },
    "language_info": {
      "name": "python"
    }
  },
  "cells": [
    {
      "cell_type": "markdown",
      "metadata": {
        "id": "view-in-github",
        "colab_type": "text"
      },
      "source": [
        "<a href=\"https://colab.research.google.com/github/ismail-erdogdu/hu-bby-261-2024/blob/main/Do%C4%9FalDil%C4%B0%C5%9FlemeKonuK%C3%BCt%C3%BCphane.ipynb\" target=\"_parent\"><img src=\"https://colab.research.google.com/assets/colab-badge.svg\" alt=\"Open In Colab\"/></a>"
      ]
    },
    {
      "cell_type": "code",
      "execution_count": null,
      "metadata": {
        "colab": {
          "base_uri": "https://localhost:8080/"
        },
        "id": "2KbH1T58lF-R",
        "outputId": "f5a5d354-4e6c-4a48-f0f4-50bf1bc52b6e"
      },
      "outputs": [
        {
          "output_type": "stream",
          "name": "stdout",
          "text": [
            "Requirement already satisfied: scikit-learn in /usr/local/lib/python3.10/dist-packages (1.5.2)\n",
            "Requirement already satisfied: pandas in /usr/local/lib/python3.10/dist-packages (2.2.2)\n",
            "Requirement already satisfied: numpy>=1.19.5 in /usr/local/lib/python3.10/dist-packages (from scikit-learn) (1.26.4)\n",
            "Requirement already satisfied: scipy>=1.6.0 in /usr/local/lib/python3.10/dist-packages (from scikit-learn) (1.13.1)\n",
            "Requirement already satisfied: joblib>=1.2.0 in /usr/local/lib/python3.10/dist-packages (from scikit-learn) (1.4.2)\n",
            "Requirement already satisfied: threadpoolctl>=3.1.0 in /usr/local/lib/python3.10/dist-packages (from scikit-learn) (3.5.0)\n",
            "Requirement already satisfied: python-dateutil>=2.8.2 in /usr/local/lib/python3.10/dist-packages (from pandas) (2.8.2)\n",
            "Requirement already satisfied: pytz>=2020.1 in /usr/local/lib/python3.10/dist-packages (from pandas) (2024.2)\n",
            "Requirement already satisfied: tzdata>=2022.7 in /usr/local/lib/python3.10/dist-packages (from pandas) (2024.2)\n",
            "Requirement already satisfied: six>=1.5 in /usr/local/lib/python3.10/dist-packages (from python-dateutil>=2.8.2->pandas) (1.16.0)\n"
          ]
        }
      ],
      "source": [
        "pip install scikit-learn pandas"
      ]
    },
    {
      "cell_type": "code",
      "source": [
        "import pandas as pd\n",
        "from sklearn.feature_extraction.text import TfidfVectorizer\n",
        "from sklearn.naive_bayes import MultinomialNB\n",
        "from sklearn.pipeline import make_pipeline\n",
        "from sklearn.model_selection import train_test_split\n",
        "from sklearn.metrics import accuracy_score\n",
        "\n",
        "# Veritabanı olarak kullanılacak örnek veriler (kelimeler ve konu başlıkları)\n",
        "data = {\n",
        "    'metin': [\n",
        "        \"Cumhurbaşkanı, seçim kampanyası, Demokrasi, Otoriterlik,Monarşi, Cumhuriyet, İktidar, Muhalefet, lider\",\n",
        "        \"Yapay zeka,Uzaktan Eğitim, E-Öğrenme, Eğitim Yazılımları, Eğitim Uygulamaları, Öğrenme Yönetim Sistemleri (LMS)\",\n",
        "        \"Futbol takımları, voleybol, tenis, maç, kale, basket, pas, madalya, ödül\",\n",
        "        \"Koronavirüs aşısı, İlaç Dozu, Sağlık Durumu, Kronik Hastalık\",\n",
        "        \"Birçok yeni film vizyona girdi.Popüler Şarkılar, TV İzleme Süresi, Favori Karakterler, En Çok İzlenen Dizi, Oyun Tercihleri\",\n",
        "        \"Hükümet, AKP, MHP, CHP Başbakan, Politika, devrim, ABD\",\n",
        "        \"Teknoloji, Eğitimde Yapay Zeka, Dijital Bölünme, Veri Gizliliği, Dijital Etik, Sosyal Medya, Dijital Bağımlılık\",\n",
        "        \"Sporcular, yaz olimpiyatları, yarışma, şampiyon, rekabet\",\n",
        "        \"Diyetisyen, Hastalık, Semptom, Tanı, Tedavi, İlaç\",\n",
        "        \"Müzik Dinleme Alışkanlıkları, Kitap Okuma Süresi, Eğlence Endüstrisi ve Şirketler, Sinema Stüdyoları, Müzik Yapım Şirketleri, Eğlence Parkları.\"\n",
        "    ],\n",
        "    'konu': [\n",
        "        \"Siyaset\", \"Teknoloji\", \"Spor\", \"Sağlık\", \"Eğlence\",\n",
        "        \"Siyaset\", \"Teknoloji\", \"Spor\", \"Sağlık\", \"Eğlence\"\n",
        "    ]\n",
        "}\n",
        "\n",
        "# Veri çerçevesi oluşturma\n",
        "df = pd.DataFrame(data)\n",
        "\n",
        "# Özellikler (X) ve etiketler (y)\n",
        "X = df['metin']\n",
        "y = df['konu']\n",
        "\n",
        "# Eğitim ve test setlerine ayırma\n",
        "X_train, X_test, y_train, y_test = train_test_split(X, y, test_size=0.2, random_state=42)\n",
        "\n",
        "# Modeli oluşturma (TfidfVectorizer + Naive Bayes)\n",
        "model = make_pipeline(TfidfVectorizer(), MultinomialNB())\n",
        "\n",
        "# Modeli eğitme\n",
        "model.fit(X_train, y_train)\n",
        "\n",
        "# Test setindeki doğruluk oranını hesaplama\n",
        "y_pred = model.predict(X_test)\n",
        "accuracy = accuracy_score(y_test, y_pred)\n",
        "print(f\"Modelin doğruluk oranı: {accuracy * 100:.2f}%\")\n",
        "\n",
        "# Metni sınıflandırma fonksiyonu\n",
        "def konu_basligi_tespit(metin):\n",
        "    # Modeli kullanarak sınıflandırma yapma\n",
        "    prediction = model.predict([metin])[0]\n",
        "    return prediction\n",
        "\n",
        "# Kullanıcıdan metin alma\n",
        "kullanici_metni = input(\"Bir metin girin: \")\n",
        "konu = konu_basligi_tespit(kullanici_metni)\n",
        "print(f\"Metnin konusu: {konu}\")\n"
      ],
      "metadata": {
        "colab": {
          "base_uri": "https://localhost:8080/"
        },
        "id": "7-eeHGo4lHPK",
        "outputId": "2f51a014-592b-470f-a958-6219fd639d19"
      },
      "execution_count": null,
      "outputs": [
        {
          "output_type": "stream",
          "name": "stdout",
          "text": [
            "Modelin doğruluk oranı: 0.00%\n"
          ]
        }
      ]
    }
  ]
}