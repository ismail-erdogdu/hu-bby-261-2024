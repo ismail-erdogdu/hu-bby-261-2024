{
  "nbformat": 4,
  "nbformat_minor": 0,
  "metadata": {
    "colab": {
      "provenance": [],
      "authorship_tag": "ABX9TyMram0sfql2p0MocqH+vv+X",
      "include_colab_link": true
    },
    "kernelspec": {
      "name": "python3",
      "display_name": "Python 3"
    },
    "language_info": {
      "name": "python"
    }
  },
  "cells": [
    {
      "cell_type": "markdown",
      "metadata": {
        "id": "view-in-github",
        "colab_type": "text"
      },
      "source": [
        "<a href=\"https://colab.research.google.com/github/ismail-erdogdu/hu-bby-261-2024/blob/main/Do%C4%9FalDil%C4%B0%C5%9FlemeK%C3%BCt%C3%BCphane.ipynb\" target=\"_parent\"><img src=\"https://colab.research.google.com/assets/colab-badge.svg\" alt=\"Open In Colab\"/></a>"
      ]
    },
    {
      "cell_type": "code",
      "source": [
        "!pip install langid\n",
        "!pip install langdetect==1.0.9\n",
        "!pip install unidecode==1.3.4"
      ],
      "metadata": {
        "colab": {
          "base_uri": "https://localhost:8080/"
        },
        "id": "LeQnfZ6gkpEP",
        "outputId": "a2d43414-c331-40d9-ef1e-4bba30b075dc"
      },
      "execution_count": 3,
      "outputs": [
        {
          "output_type": "stream",
          "name": "stdout",
          "text": [
            "Requirement already satisfied: langid in /usr/local/lib/python3.10/dist-packages (1.1.6)\n",
            "Requirement already satisfied: numpy in /usr/local/lib/python3.10/dist-packages (from langid) (1.26.4)\n",
            "Requirement already satisfied: langdetect==1.0.9 in /usr/local/lib/python3.10/dist-packages (1.0.9)\n",
            "Requirement already satisfied: six in /usr/local/lib/python3.10/dist-packages (from langdetect==1.0.9) (1.16.0)\n",
            "Requirement already satisfied: unidecode==1.3.4 in /usr/local/lib/python3.10/dist-packages (1.3.4)\n"
          ]
        }
      ]
    },
    {
      "cell_type": "code",
      "source": [
        "\n",
        "from langdetect import detect\n",
        "from langdetect.lang_detect_exception import LangDetectException\n",
        "\n",
        "# Dil dosyalarını yüklemek için fonksiyon\n",
        "def dosyadan_kelime_listesi_olustur(dosya_yolu):\n",
        "    try:\n",
        "        with open(dosya_yolu, \"r\", encoding=\"utf-8\") as dosya:\n",
        "            kelimeler = [satir.strip().lower() for satir in dosya]\n",
        "        return kelimeler\n",
        "    except FileNotFoundError:\n",
        "        print(f\"Hata: '{dosya_yolu}' dosyası bulunamadı.\")\n",
        "        return []\n",
        "\n",
        "# Dilleri dosyalardan yükle\n",
        "turkce_kelime_ve_ekler = dosyadan_kelime_listesi_olustur(\"/content/türkçe.txt\")\n",
        "almanca_kelime_ve_ekler = dosyadan_kelime_listesi_olustur(\"/content/almanca.txt\")\n",
        "fransizca_kelime_ve_ekler = dosyadan_kelime_listesi_olustur(\"/content/fransızca.txt\")\n",
        "ispanyolca_kelime_ve_ekler = dosyadan_kelime_listesi_olustur(\"/content/ispanyolca.txt\")\n",
        "ingilizce_kelime_ve_ekler = dosyadan_kelime_listesi_olustur(\"/content/ingilizce.txt\")\n",
        "\n",
        "# Dil tespiti fonksiyonu\n",
        "def dil_tespiti(metin):\n",
        "    try:\n",
        "        # Dil tespiti yap\n",
        "        detected_lang = detect(metin)\n",
        "\n",
        "        # Dillerin doğruluğunu kontrol et\n",
        "        if detected_lang == \"tr\":\n",
        "            return \"Türkçe\"\n",
        "        elif detected_lang == \"de\":\n",
        "            return \"Almanca\"\n",
        "        elif detected_lang == \"fr\":\n",
        "            return \"Fransızca\"\n",
        "        elif detected_lang == \"es\":\n",
        "            return \"İspanyolca\"\n",
        "        elif detected_lang == \"en\":\n",
        "            return \"İngilizce\"\n",
        "        else:\n",
        "            return \"Dil tespit edilemedi.\"\n",
        "    except LangDetectException:\n",
        "        return \"Dil tespit edilemedi.\"\n",
        "\n",
        "        from dil_tespiti import dil_tespiti\n",
        "\n",
        "# Kullanıcıdan metin al\n",
        "metin = input(\"Bir metin giriniz: \")\n",
        "print(\"Metnin dili:\", dil_tespiti(metin))\n",
        "\n",
        "\n"
      ],
      "metadata": {
        "colab": {
          "base_uri": "https://localhost:8080/"
        },
        "id": "f4hxSk42kSXs",
        "outputId": "c95a0f4f-2f20-41ce-e626-47893b4c9638"
      },
      "execution_count": 4,
      "outputs": [
        {
          "output_type": "stream",
          "name": "stdout",
          "text": [
            "Bir metin giriniz: selam nasılsın iyi misin\n",
            "Metnin dili: Türkçe\n"
          ]
        }
      ]
    }
  ]
}