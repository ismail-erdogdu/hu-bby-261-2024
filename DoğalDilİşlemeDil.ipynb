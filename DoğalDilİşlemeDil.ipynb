{
  "nbformat": 4,
  "nbformat_minor": 0,
  "metadata": {
    "colab": {
      "provenance": [],
      "authorship_tag": "ABX9TyOB2VSch7/YBdb5arGzrIjT",
      "include_colab_link": true
    },
    "kernelspec": {
      "name": "python3",
      "display_name": "Python 3"
    },
    "language_info": {
      "name": "python"
    }
  },
  "cells": [
    {
      "cell_type": "markdown",
      "metadata": {
        "id": "view-in-github",
        "colab_type": "text"
      },
      "source": [
        "<a href=\"https://colab.research.google.com/github/ismail-erdogdu/hu-bby-261-2024/blob/main/Do%C4%9FalDil%C4%B0%C5%9FlemeDil.ipynb\" target=\"_parent\"><img src=\"https://colab.research.google.com/assets/colab-badge.svg\" alt=\"Open In Colab\"/></a>"
      ]
    },
    {
      "cell_type": "code",
      "execution_count": null,
      "metadata": {
        "colab": {
          "base_uri": "https://localhost:8080/"
        },
        "id": "mD5p7L-abVBJ",
        "outputId": "a28d19ac-ad4a-4193-fdfd-fff092bf19c5"
      },
      "outputs": [
        {
          "output_type": "stream",
          "name": "stdout",
          "text": [
            "Bir metin giriniz: Hoy es un día muy bonito. El sol brilla en el cielo y el aire es fresco. Decidí dar un paseo por el parque para disfrutar del buen tiempo. Vi a muchas personas caminando, algunos con sus perros, otros leyendo libros. Me siento muy feliz y relajado en este momento. A veces, es importante tomarse un descanso y disfrutar de las pequeñas cosas de la vida. Mañana tengo que trabajar, pero por ahora quiero aprovechar al máximo este día.\n",
            "Metnin dili: İspanyolca\n"
          ]
        }
      ],
      "source": [
        "def dosyadan_kelime_listesi_olustur(dosya_yolu):\n",
        "    try:\n",
        "        with open(dosya_yolu, \"r\", encoding=\"utf-8\") as dosya:\n",
        "            kelimeler = [satir.strip().lower() for satir in dosya]\n",
        "        return kelimeler\n",
        "    except FileNotFoundError:\n",
        "        print(f\"Hata: '{dosya_yolu}' dosyası bulunamadı.\")\n",
        "        return []\n",
        "\n",
        "# Dilleri dosyalardan yükleyelim\n",
        "turkce_kelime_ve_ekler = dosyadan_kelime_listesi_olustur(\"/content/türkçe.txt\")\n",
        "almanca_kelime_ve_ekler = dosyadan_kelime_listesi_olustur(\"/content/almanca.txt\")\n",
        "fransizca_kelime_ve_ekler = dosyadan_kelime_listesi_olustur(\"/content/fransızca.txt\")\n",
        "ispanyolca_kelime_ve_ekler = dosyadan_kelime_listesi_olustur(\"/content/ispanyolca.txt\")\n",
        "ingilizce_kelime_ve_ekler = dosyadan_kelime_listesi_olustur(\"/content/ingilizce.txt\")\n",
        "\n",
        "# Temizleme işlemi: sadece harfleri almak için\n",
        "def kelime_temizle(kelime):\n",
        "    # Kelimenin başındaki ve sonundaki boşlukları temizle, sadece harfleri al\n",
        "    temiz_kelime = \"\".join(char for char in kelime if char.isalpha())\n",
        "    return temiz_kelime.lower()  # küçük harfe çevir\n",
        "\n",
        "def dil_tespiti(metin):\n",
        "    # Küçük harfe çevir ve kelimelere ayır\n",
        "    kelimeler = metin.split()\n",
        "\n",
        "    # Sayaçlar\n",
        "    turkce_sayac = sum(1 for kelime in kelimeler if kelime_temizle(kelime) in turkce_kelime_ve_ekler)\n",
        "    almanca_sayac = sum(1 for kelime in kelimeler if kelime_temizle(kelime) in almanca_kelime_ve_ekler)\n",
        "    fransizca_sayac = sum(1 for kelime in kelimeler if kelime_temizle(kelime) in fransizca_kelime_ve_ekler)\n",
        "    ispanyolca_sayac = sum(1 for kelime in kelimeler if kelime_temizle(kelime) in ispanyolca_kelime_ve_ekler)\n",
        "    ingilizce_sayac = sum(1 for kelime in kelimeler if kelime_temizle(kelime) in ingilizce_kelime_ve_ekler)\n",
        "\n",
        "    # Dili tespit etme\n",
        "    diller = {\n",
        "        \"Türkçe\": turkce_sayac,\n",
        "        \"Almanca\": almanca_sayac,\n",
        "        \"Fransızca\": fransizca_sayac,\n",
        "        \"İspanyolca\": ispanyolca_sayac,\n",
        "        \"İngilizce\": ingilizce_sayac\n",
        "    }\n",
        "\n",
        "    # En yüksek sayacı bul\n",
        "    en_yuksek_dil = max(diller, key=diller.get)\n",
        "\n",
        "    # Dili kontrol et\n",
        "    if diller[en_yuksek_dil] == 0:\n",
        "        return \"Dil tespit edilemedi.\"\n",
        "    return en_yuksek_dil\n",
        "\n",
        "# Örnek kullanım\n",
        "metin = input(\"Bir metin giriniz: \")\n",
        "print(\"Metnin dili:\", dil_tespiti(metin))\n"
      ]
    }
  ]
}